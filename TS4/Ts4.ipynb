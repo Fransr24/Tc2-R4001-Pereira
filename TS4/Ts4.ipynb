{
 "cells": [
  {
   "cell_type": "code",
   "execution_count": 3,
   "id": "236978d1",
   "metadata": {},
   "outputs": [
    {
     "name": "stdout",
     "output_type": "stream",
     "text": [
      "e^2 = 0.122018, n = 3, alphamin = 15.973845\n",
      "\n",
      " tranferencia pasa bajos:\n",
      "\n"
     ]
    },
    {
     "ename": "AttributeError",
     "evalue": "'numpy.ndarray' object has no attribute 'num'",
     "output_type": "error",
     "traceback": [
      "\u001b[1;31m---------------------------------------------------------------------------\u001b[0m",
      "\u001b[1;31mAttributeError\u001b[0m                            Traceback (most recent call last)",
      "\u001b[1;32m~\\AppData\\Local\\Temp/ipykernel_9312/3866868263.py\u001b[0m in \u001b[0;36m<module>\u001b[1;34m\u001b[0m\n\u001b[0;32m     22\u001b[0m \u001b[1;33m\u001b[0m\u001b[0m\n\u001b[0;32m     23\u001b[0m \u001b[0mprint\u001b[0m \u001b[1;33m(\u001b[0m\u001b[1;34m'\\n tranferencia pasa bajos:\\n'\u001b[0m\u001b[1;33m)\u001b[0m\u001b[1;33m\u001b[0m\u001b[1;33m\u001b[0m\u001b[0m\n\u001b[1;32m---> 24\u001b[1;33m \u001b[0mtc2\u001b[0m\u001b[1;33m.\u001b[0m\u001b[0mpretty_print_lti\u001b[0m\u001b[1;33m(\u001b[0m\u001b[0mnum_mp_pb\u001b[0m\u001b[1;33m,\u001b[0m\u001b[0mden_mp_pb\u001b[0m\u001b[1;33m)\u001b[0m\u001b[1;33m\u001b[0m\u001b[1;33m\u001b[0m\u001b[0m\n\u001b[0m\u001b[0;32m     25\u001b[0m \u001b[0mprint\u001b[0m \u001b[1;33m(\u001b[0m\u001b[1;34m'\\n tranferencia pasa altos:\\n'\u001b[0m\u001b[1;33m)\u001b[0m\u001b[1;33m\u001b[0m\u001b[1;33m\u001b[0m\u001b[0m\n\u001b[0;32m     26\u001b[0m \u001b[0mtc2\u001b[0m\u001b[1;33m.\u001b[0m\u001b[0mpretty_print_lti\u001b[0m\u001b[1;33m(\u001b[0m\u001b[0mnum_mp_pa\u001b[0m\u001b[1;33m,\u001b[0m\u001b[0mden_mp_pa\u001b[0m\u001b[1;33m)\u001b[0m\u001b[1;33m\u001b[0m\u001b[1;33m\u001b[0m\u001b[0m\n",
      "\u001b[1;32m~\\Documents\\GitHub\\Tc2-R4001-Pereira\\TS4\\splane.py\u001b[0m in \u001b[0;36mpretty_print_lti\u001b[1;34m(this_lti, displaystr)\u001b[0m\n\u001b[0;32m   1240\u001b[0m     \u001b[1;32mif\u001b[0m\u001b[1;33m(\u001b[0m \u001b[0mverbose\u001b[0m \u001b[1;33m)\u001b[0m\u001b[1;33m:\u001b[0m\u001b[1;33m\u001b[0m\u001b[1;33m\u001b[0m\u001b[0m\n\u001b[0;32m   1241\u001b[0m \u001b[1;33m\u001b[0m\u001b[0m\n\u001b[1;32m-> 1242\u001b[1;33m         \u001b[0mprint_latex\u001b[0m\u001b[1;33m(\u001b[0m\u001b[1;34mr' [Y_{MAI}] = '\u001b[0m \u001b[1;33m+\u001b[0m \u001b[0msp\u001b[0m\u001b[1;33m.\u001b[0m\u001b[0mlatex\u001b[0m\u001b[1;33m(\u001b[0m\u001b[0mYmai\u001b[0m\u001b[1;33m)\u001b[0m \u001b[1;33m)\u001b[0m\u001b[1;33m\u001b[0m\u001b[1;33m\u001b[0m\u001b[0m\n\u001b[0m\u001b[0;32m   1243\u001b[0m \u001b[1;33m\u001b[0m\u001b[0m\n\u001b[0;32m   1244\u001b[0m         \u001b[0mprint_latex\u001b[0m\u001b[1;33m(\u001b[0m\u001b[1;34mr' [Y^{{ {:d}{:d} }}_{{ {:d}{:d} }} ] = '\u001b[0m\u001b[1;33m.\u001b[0m\u001b[0mformat\u001b[0m\u001b[1;33m(\u001b[0m\u001b[0mmm\u001b[0m\u001b[1;33m,\u001b[0m\u001b[0mnn\u001b[0m\u001b[1;33m,\u001b[0m\u001b[0mii\u001b[0m\u001b[1;33m,\u001b[0m\u001b[0mjj\u001b[0m\u001b[1;33m)\u001b[0m \u001b[1;33m+\u001b[0m \u001b[0msp\u001b[0m\u001b[1;33m.\u001b[0m\u001b[0mlatex\u001b[0m\u001b[1;33m(\u001b[0m\u001b[0mnum\u001b[0m\u001b[1;33m)\u001b[0m \u001b[1;33m)\u001b[0m\u001b[1;33m\u001b[0m\u001b[1;33m\u001b[0m\u001b[0m\n",
      "\u001b[1;31mAttributeError\u001b[0m: 'numpy.ndarray' object has no attribute 'num'"
     ]
    }
   ],
   "source": [
    "import numpy as np\n",
    "import scipy.signal as sig\n",
    "import splane as tc2\n",
    "import matplotlib.pyplot as plt  \n",
    "\n",
    "\n",
    "ws = 2.61\n",
    "amax = 0.5\n",
    "ee = 10**(amax/10)-1\n",
    "n = 3\n",
    "amin = 10*np.log10(1+ ee * ws**(2*n))\n",
    "\n",
    "print ('e^2 = {:f}, n = {:d}, alphamin = {:f}'.format (ee, n, amin))\n",
    "\n",
    "z,p,k = sig.cheb1ap(n, amax)\n",
    "\n",
    "num, den = sig.zpk2tf(z,p,k)\n",
    "\n",
    "num_mp_pb, den_mp_pb = sig.lp2lp (num,den)\n",
    "##convierto a pasa altos\n",
    "num_mp_pa, den_mp_pa = sig.lp2hp (num_mp_pb,den_mp_pb)\n",
    "\n",
    "print ('\\n tranferencia pasa bajos:\\n')\n",
    "tc2.pretty_print_lti(num_mp_pb,den_mp_pb)\n",
    "print ('\\n tranferencia pasa altos:\\n')\n",
    "tc2.pretty_print_lti(num_mp_pa,den_mp_pa)\n",
    "print ('\\n En 2 SOS:\\n')\n",
    "sos_pb = tc2.tf2sos_analog(num_mp_pb,den_mp_pb)\n",
    "tc2.pretty_print_SOS(sos_pb)\n",
    "\n",
    "##%matplotlib qt5\n",
    "tc2.analyze_sys(sos_pb, 'mi SOS')"
   ]
  },
  {
   "cell_type": "code",
   "execution_count": null,
   "id": "269eb7bb",
   "metadata": {},
   "outputs": [],
   "source": []
  },
  {
   "cell_type": "code",
   "execution_count": null,
   "id": "40ab2014",
   "metadata": {},
   "outputs": [],
   "source": []
  }
 ],
 "metadata": {
  "kernelspec": {
   "display_name": "Python 3 (ipykernel)",
   "language": "python",
   "name": "python3"
  },
  "language_info": {
   "codemirror_mode": {
    "name": "ipython",
    "version": 3
   },
   "file_extension": ".py",
   "mimetype": "text/x-python",
   "name": "python",
   "nbconvert_exporter": "python",
   "pygments_lexer": "ipython3",
   "version": "3.9.7"
  }
 },
 "nbformat": 4,
 "nbformat_minor": 5
}
