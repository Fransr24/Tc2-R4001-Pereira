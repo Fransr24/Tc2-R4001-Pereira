{
 "cells": [
  {
   "cell_type": "code",
   "execution_count": 13,
   "id": "c9af77b2",
   "metadata": {},
   "outputs": [
    {
     "name": "stdout",
     "output_type": "stream",
     "text": [
      "e^2 = 0.122018, n = 3, alphamin = 15.973845\n",
      "\n",
      " tranferencia pasa bajos:\n",
      "\n"
     ]
    },
    {
     "data": {
      "text/latex": [
       "$\\displaystyle \\frac{0.7157 }{s^3 + s^2 \\,\\, 1.253 + s \\,\\, 1.535 + 0.7157 }$"
      ],
      "text/plain": [
       "<IPython.core.display.Math object>"
      ]
     },
     "metadata": {},
     "output_type": "display_data"
    },
    {
     "name": "stdout",
     "output_type": "stream",
     "text": [
      "\n",
      " tranferencia pasa banda:\n",
      "\n"
     ]
    },
    {
     "data": {
      "text/latex": [
       "$\\displaystyle \\frac{s^3 \\,\\, 0.7157 }{s^6 + s^5 \\,\\, 1.253 + s^4 \\,\\, 4.535 + s^3 \\,\\, 3.222 + s^2 \\,\\, 4.535 + s \\,\\, 1.253 +   1 }$"
      ],
      "text/plain": [
       "<IPython.core.display.Math object>"
      ]
     },
     "metadata": {},
     "output_type": "display_data"
    },
    {
     "name": "stdout",
     "output_type": "stream",
     "text": [
      "\n",
      " En 2 SOS:\n",
      "\n"
     ]
    },
    {
     "data": {
      "text/latex": [
       "$\\displaystyle   \\frac{s \\,\\, 9.113 }{s^2 + s \\,\\, 0.6265 +   1 } . \\frac{s \\,\\, 0.4599 }{s^2 + s \\,\\, 0.4569 + 2.694 } . \\frac{s \\,\\, 0.1707 }{s^2 + s \\,\\, 0.1696 + 0.3712 }$"
      ],
      "text/plain": [
       "<IPython.core.display.Math object>"
      ]
     },
     "metadata": {},
     "output_type": "display_data"
    },
    {
     "data": {
      "text/latex": [
       "$\\displaystyle   \\frac{s\\,14.55\\,\\frac{  1}{1.596}}{s^2 + s \\frac{  1}{1.596} +   1^2} . \\frac{s\\,1.007\\,\\frac{1.641}{3.593}}{s^2 + s \\frac{1.641}{3.593} + 1.641^2} . \\frac{s\\,1.007\\,\\frac{0.6093}{3.593}}{s^2 + s \\frac{0.6093}{3.593} + 0.6093^2}$"
      ],
      "text/plain": [
       "<IPython.core.display.Math object>"
      ]
     },
     "metadata": {},
     "output_type": "display_data"
    }
   ],
   "source": [
    "import numpy as np\n",
    "import scipy.signal as sig\n",
    "import splane as tc2\n",
    "import matplotlib.pyplot as plt  \n",
    "\n",
    "\n",
    "ws = 2.61\n",
    "amax = 0.5\n",
    "ee = 10**(amax/10)-1\n",
    "n = 3\n",
    "amin = 10*np.log10(1+ ee * ws**(2*n))\n",
    "\n",
    "print ('e^2 = {:f}, n = {:d}, alphamin = {:f}'.format (ee, n, amin))\n",
    "\n",
    "z,p,k = sig.cheb1ap(n, amax)\n",
    "\n",
    "num, den = sig.zpk2tf(z,p,k)\n",
    "\n",
    "num_mp_pb, den_mp_pb = sig.lp2lp (num,den)\n",
    "##convierto a pasa banda\n",
    "num_mp_pba, den_mp_pba = sig.lp2bp (num_mp_pb,den_mp_pb)\n",
    "\n",
    "print ('\\n tranferencia pasa bajos:\\n')\n",
    "tc2.pretty_print_lti(num_mp_pb,den_mp_pb)\n",
    "print ('\\n tranferencia pasa banda:\\n')\n",
    "tc2.pretty_print_lti(num_mp_pba,den_mp_pba)\n",
    "print ('\\n En 3 SOS:\\n')\n",
    "sos_pba = tc2.tf2sos_analog(num_mp_pba,den_mp_pba)\n",
    "tc2.pretty_print_SOS(sos_pba)\n",
    "tc2.pretty_print_SOS(sos_pba, mode='omegayq')\n",
    "\n",
    "\n",
    "##%matplotlib qt5\n",
    "tc2.analyze_sys(sos_pba, 'mi SOS')"
   ]
  },
  {
   "cell_type": "code",
   "execution_count": null,
   "id": "bf668b8c",
   "metadata": {},
   "outputs": [],
   "source": []
  }
 ],
 "metadata": {
  "kernelspec": {
   "display_name": "Python 3 (ipykernel)",
   "language": "python",
   "name": "python3"
  },
  "language_info": {
   "codemirror_mode": {
    "name": "ipython",
    "version": 3
   },
   "file_extension": ".py",
   "mimetype": "text/x-python",
   "name": "python",
   "nbconvert_exporter": "python",
   "pygments_lexer": "ipython3",
   "version": "3.9.7"
  }
 },
 "nbformat": 4,
 "nbformat_minor": 5
}
